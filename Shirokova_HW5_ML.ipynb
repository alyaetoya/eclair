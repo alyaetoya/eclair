{
  "nbformat": 4,
  "nbformat_minor": 0,
  "metadata": {
    "colab": {
      "provenance": [],
      "include_colab_link": true
    },
    "kernelspec": {
      "name": "python3",
      "display_name": "Python 3"
    },
    "language_info": {
      "name": "python"
    }
  },
  "cells": [
    {
      "cell_type": "markdown",
      "metadata": {
        "id": "view-in-github",
        "colab_type": "text"
      },
      "source": [
        "<a href=\"https://colab.research.google.com/github/alyaetoya/eclair/blob/main/Shirokova_HW5_ML.ipynb\" target=\"_parent\"><img src=\"https://colab.research.google.com/assets/colab-badge.svg\" alt=\"Open In Colab\"/></a>"
      ]
    },
    {
      "cell_type": "markdown",
      "source": [
        "# Домашнее задание 5. Классификация\n",
        "\n",
        "В этот раз вам нужно поработать с задачей sentiment analysis на примере отзывов на фильмы.\n",
        "\n",
        "Датасет доступен [здесь](https://www.kaggle.com/datasets/lakshmi25npathi/imdb-dataset-of-50k-movie-reviews). Посмотрите, как устроены данные, как распределены оценки.\n"
      ],
      "metadata": {
        "id": "wANeOwQaRQUY"
      }
    },
    {
      "cell_type": "code",
      "source": [
        "# YOUR CODE HERE"
      ],
      "metadata": {
        "id": "g780Q0l-GlbE"
      },
      "execution_count": null,
      "outputs": []
    },
    {
      "cell_type": "markdown",
      "source": [
        "## Задание 1 (1 балл)\n",
        "\n",
        "Нарисуйте два вордклауда: для позитивных и негативных. Постарайтесь сделать их информативными: например, не отображайте \"общеанглийские\" стоп-слова. Возможно, какие-то еще слова оказались частотными и для позитивных, и для негативных, и их тоже можно убрать?"
      ],
      "metadata": {
        "id": "wObDt-iVGq96"
      }
    },
    {
      "cell_type": "code",
      "execution_count": null,
      "metadata": {
        "id": "UJYc4t1ERMoQ"
      },
      "outputs": [],
      "source": [
        "import matplotlib.pyplot as plt\n",
        "\n",
        "# YOUR CODE HERE"
      ]
    },
    {
      "cell_type": "markdown",
      "source": [
        "## Задание 2 (1 балл)\n",
        "Разбейте данные на обучающую и тестовую выборки и векторизуйте каким-либо способом, про который мы говорили на семинаре.\n"
      ],
      "metadata": {
        "id": "7pjg8CFHeCix"
      }
    },
    {
      "cell_type": "code",
      "source": [
        "# YOUR CODE HERE\n",
        "X_train, X_test, y_train, y_test = ...\n",
        "\n",
        "vectorizer = ...\n",
        "X_train_transformed = ...\n",
        "X_test_transformed = ..."
      ],
      "metadata": {
        "id": "F9TzNGc7eTuG"
      },
      "execution_count": null,
      "outputs": []
    },
    {
      "cell_type": "markdown",
      "source": [
        "## Задание 3 (1 балл)\n",
        "\n",
        "Обучите любой классификатор на обучающей выборке и замерьте качество на тестовой выборке. Вспомните, что такое accuracy, precision (точность), recall (полнота). Напишите функции, сравнивающие истинные метки с предсказанными и считающие метрики. Проверьте, что результат вашей реализации совпадает с метриками из sklearn."
      ],
      "metadata": {
        "id": "6p8QUQe0ekby"
      }
    },
    {
      "cell_type": "code",
      "source": [
        "classifier = ...\n",
        "\n",
        "# YOUR CODE HERE"
      ],
      "metadata": {
        "id": "Ma-n2ePqe2g5"
      },
      "execution_count": null,
      "outputs": []
    },
    {
      "cell_type": "code",
      "source": [
        "def accuracy():\n",
        "    # YOUR CODE HERE\n",
        "    pass"
      ],
      "metadata": {
        "id": "9Vpkz8txe6S9"
      },
      "execution_count": null,
      "outputs": []
    },
    {
      "cell_type": "code",
      "source": [
        "def precision():\n",
        "    # YOUR CODE HERE\n",
        "    pass"
      ],
      "metadata": {
        "id": "tecioG9ce-yf"
      },
      "execution_count": null,
      "outputs": []
    },
    {
      "cell_type": "code",
      "source": [
        "def recall():\n",
        "    # YOUR CODE HERE\n",
        "    pass"
      ],
      "metadata": {
        "id": "4c7sU_TDfCeT"
      },
      "execution_count": null,
      "outputs": []
    },
    {
      "cell_type": "code",
      "source": [
        "# YOUR CODE HERE"
      ],
      "metadata": {
        "id": "SbUuQXQAfEwL"
      },
      "execution_count": null,
      "outputs": []
    },
    {
      "cell_type": "markdown",
      "source": [
        "## Задание 4 (1 балл)\n",
        "Объясните **своими** (не коллеги, поста в интернете или chatGPT) словами, как работают выбранные векторизатор и классификатор и что означает каждая из метрик: accuracy, recall, precision"
      ],
      "metadata": {
        "id": "RofVJxnzfNe1"
      }
    },
    {
      "cell_type": "markdown",
      "source": [
        "*напишите свой ответ здесь*"
      ],
      "metadata": {
        "id": "qGs4EZpkfaW4"
      }
    },
    {
      "cell_type": "markdown",
      "source": [
        "## Задание 5 (1 балл)\n",
        "\n",
        "Используйте другой метод векторизации и тот же классификатор. Замерьте качество. Как оно изменилось?"
      ],
      "metadata": {
        "id": "6Id_nFoEfgM5"
      }
    },
    {
      "cell_type": "code",
      "source": [
        "another_vectorizer = ...\n",
        "\n",
        "# YOUR CODE HERE"
      ],
      "metadata": {
        "id": "WhMleqWffq84"
      },
      "execution_count": null,
      "outputs": []
    },
    {
      "cell_type": "markdown",
      "source": [
        "## Задание 6 (1 балл)\n",
        "\n",
        "Для обоих векторизаторов попробуйте использовать другой классификатор. Опишите своими словами, как работает новый классификатор.\n",
        "\n",
        "Как изменилось качество с другой моделью?"
      ],
      "metadata": {
        "id": "T-LdJsJ9fwMs"
      }
    },
    {
      "cell_type": "code",
      "source": [
        "# YOUR CODE HERE"
      ],
      "metadata": {
        "id": "O82DoohkfttJ"
      },
      "execution_count": null,
      "outputs": []
    },
    {
      "cell_type": "markdown",
      "source": [
        "## Задание 7 (1 балл)\n",
        "\n",
        "Получилось 4 набора результатов. Сравните их. Что вы можете сказать? Как меняется качество?"
      ],
      "metadata": {
        "id": "nysnv2e2f9ik"
      }
    },
    {
      "cell_type": "markdown",
      "source": [
        "*напишите свой ответ здесь*"
      ],
      "metadata": {
        "id": "iRFZh7ipgLid"
      }
    },
    {
      "cell_type": "markdown",
      "source": [
        "## Задание 8 (3 балла)\n",
        "\n",
        "## Задание 8.1 (2 балла из 3)\n",
        "\n",
        "У векторизаторов и классификаторов есть множество параметров. Переключать их руками, перезапускать ячейки и записывать результаты — не очень удобно. Лучше это автоматизировать:\n",
        "1. Выберите несколько параметров и возможных значений. Напишите своими слвоами, за что отвечают эти значения.\n",
        "2. Напишите перебор каждого значения каждого параметра, чтобы проверить все возможные сочетания\n",
        "3. Обучайте векторизатор и классификатор с данным набором параметров на тренировочной выборке, затем замеряйте качество на тестовой. Если получается лучше, чем было — сохраняйте результат и параметры, с которыми он получился. (По какой метрике или набору метрик считать параметры \"лучше\", решите самостоятельно)\n",
        "\n",
        "В итоге вы получите значения параметров для векторизатора и классификатора, которые ведут к наибольшему качеству. Выведите параметры и соответствующие метрики."
      ],
      "metadata": {
        "id": "BwNSB2uCgP1-"
      }
    },
    {
      "cell_type": "code",
      "source": [
        "# YOUR CODE HERE"
      ],
      "metadata": {
        "id": "lw-xAt8fI-dp"
      },
      "execution_count": null,
      "outputs": []
    },
    {
      "cell_type": "markdown",
      "source": [
        "## Задание 8.2 (1 балл из 3)\n",
        "\n",
        "Только что вы реализиовали **перебор параметров по сетке**. В sklearn есть его имплементация: [sklearn.model_selection.GridSearchCV](https://scikit-learn.org/stable/modules/generated/sklearn.model_selection.GridSearchCV.html).\n",
        "\n",
        "Объект класса `GridSearchCV` принимает классификатор (создаем объект, но не указываем никакие параметры) и сетку параметров. Дополнительно можно указать `scoring` из [списка](https://scikit-learn.org/stable/modules/model_evaluation.html#scoring-parameter). Если `scoring` не указано, то по умолчанию будет использоваться MSE для регрессии и accuracy для классификации.\n",
        "\n",
        "После этого вызываем `fit` от данных, чтобы подобрать лучшие параметры. Обратите внимание: GridSearchCV автоматически разбивает на трейн и тест для поиска лучших параметров. Если быть точнее, то делает несколько разных случайных разбиений, а затем считает среднее качество на этих нескольких тестовых выборках для текущих параметров."
      ],
      "metadata": {
        "id": "UtEmVrIwJK9F"
      }
    },
    {
      "cell_type": "code",
      "source": [
        "from sklearn import datasets\n",
        "from sklearn.tree import DecisionTreeClassifier\n",
        "from sklearn.model_selection import GridSearchCV\n",
        "\n",
        "\n",
        "iris = datasets.load_iris()\n",
        "\n",
        "# desired possible values for parameters\n",
        "parameters = {\n",
        "    \"max_depth\": [5, 15, None],\n",
        "    \"min_samples_leaf\": [1, 2, 5]\n",
        "}\n",
        "tree = DecisionTreeClassifier()  # no parameters, just an object\n",
        "clf = GridSearchCV(\n",
        "    estimator=tree,  # our \"empty\" object\n",
        "    param_grid=parameters,  # dict {param: values}\n",
        "    scoring=\"accuracy\"\n",
        ")\n",
        "clf.fit(iris.data, iris.target)  # let's find the best combination"
      ],
      "metadata": {
        "colab": {
          "base_uri": "https://localhost:8080/",
          "height": 117
        },
        "id": "IVIPCThPJLgY",
        "outputId": "03da074a-6ce7-45c5-8cd9-697dff0b0ae3"
      },
      "execution_count": null,
      "outputs": [
        {
          "output_type": "execute_result",
          "data": {
            "text/plain": [
              "GridSearchCV(estimator=DecisionTreeClassifier(),\n",
              "             param_grid={'max_depth': [5, 15, None],\n",
              "                         'min_samples_leaf': [1, 2, 5]},\n",
              "             scoring='accuracy')"
            ],
            "text/html": [
              "<style>#sk-container-id-2 {color: black;background-color: white;}#sk-container-id-2 pre{padding: 0;}#sk-container-id-2 div.sk-toggleable {background-color: white;}#sk-container-id-2 label.sk-toggleable__label {cursor: pointer;display: block;width: 100%;margin-bottom: 0;padding: 0.3em;box-sizing: border-box;text-align: center;}#sk-container-id-2 label.sk-toggleable__label-arrow:before {content: \"▸\";float: left;margin-right: 0.25em;color: #696969;}#sk-container-id-2 label.sk-toggleable__label-arrow:hover:before {color: black;}#sk-container-id-2 div.sk-estimator:hover label.sk-toggleable__label-arrow:before {color: black;}#sk-container-id-2 div.sk-toggleable__content {max-height: 0;max-width: 0;overflow: hidden;text-align: left;background-color: #f0f8ff;}#sk-container-id-2 div.sk-toggleable__content pre {margin: 0.2em;color: black;border-radius: 0.25em;background-color: #f0f8ff;}#sk-container-id-2 input.sk-toggleable__control:checked~div.sk-toggleable__content {max-height: 200px;max-width: 100%;overflow: auto;}#sk-container-id-2 input.sk-toggleable__control:checked~label.sk-toggleable__label-arrow:before {content: \"▾\";}#sk-container-id-2 div.sk-estimator input.sk-toggleable__control:checked~label.sk-toggleable__label {background-color: #d4ebff;}#sk-container-id-2 div.sk-label input.sk-toggleable__control:checked~label.sk-toggleable__label {background-color: #d4ebff;}#sk-container-id-2 input.sk-hidden--visually {border: 0;clip: rect(1px 1px 1px 1px);clip: rect(1px, 1px, 1px, 1px);height: 1px;margin: -1px;overflow: hidden;padding: 0;position: absolute;width: 1px;}#sk-container-id-2 div.sk-estimator {font-family: monospace;background-color: #f0f8ff;border: 1px dotted black;border-radius: 0.25em;box-sizing: border-box;margin-bottom: 0.5em;}#sk-container-id-2 div.sk-estimator:hover {background-color: #d4ebff;}#sk-container-id-2 div.sk-parallel-item::after {content: \"\";width: 100%;border-bottom: 1px solid gray;flex-grow: 1;}#sk-container-id-2 div.sk-label:hover label.sk-toggleable__label {background-color: #d4ebff;}#sk-container-id-2 div.sk-serial::before {content: \"\";position: absolute;border-left: 1px solid gray;box-sizing: border-box;top: 0;bottom: 0;left: 50%;z-index: 0;}#sk-container-id-2 div.sk-serial {display: flex;flex-direction: column;align-items: center;background-color: white;padding-right: 0.2em;padding-left: 0.2em;position: relative;}#sk-container-id-2 div.sk-item {position: relative;z-index: 1;}#sk-container-id-2 div.sk-parallel {display: flex;align-items: stretch;justify-content: center;background-color: white;position: relative;}#sk-container-id-2 div.sk-item::before, #sk-container-id-2 div.sk-parallel-item::before {content: \"\";position: absolute;border-left: 1px solid gray;box-sizing: border-box;top: 0;bottom: 0;left: 50%;z-index: -1;}#sk-container-id-2 div.sk-parallel-item {display: flex;flex-direction: column;z-index: 1;position: relative;background-color: white;}#sk-container-id-2 div.sk-parallel-item:first-child::after {align-self: flex-end;width: 50%;}#sk-container-id-2 div.sk-parallel-item:last-child::after {align-self: flex-start;width: 50%;}#sk-container-id-2 div.sk-parallel-item:only-child::after {width: 0;}#sk-container-id-2 div.sk-dashed-wrapped {border: 1px dashed gray;margin: 0 0.4em 0.5em 0.4em;box-sizing: border-box;padding-bottom: 0.4em;background-color: white;}#sk-container-id-2 div.sk-label label {font-family: monospace;font-weight: bold;display: inline-block;line-height: 1.2em;}#sk-container-id-2 div.sk-label-container {text-align: center;}#sk-container-id-2 div.sk-container {/* jupyter's `normalize.less` sets `[hidden] { display: none; }` but bootstrap.min.css set `[hidden] { display: none !important; }` so we also need the `!important` here to be able to override the default hidden behavior on the sphinx rendered scikit-learn.org. See: https://github.com/scikit-learn/scikit-learn/issues/21755 */display: inline-block !important;position: relative;}#sk-container-id-2 div.sk-text-repr-fallback {display: none;}</style><div id=\"sk-container-id-2\" class=\"sk-top-container\"><div class=\"sk-text-repr-fallback\"><pre>GridSearchCV(estimator=DecisionTreeClassifier(),\n",
              "             param_grid={&#x27;max_depth&#x27;: [5, 15, None],\n",
              "                         &#x27;min_samples_leaf&#x27;: [1, 2, 5]},\n",
              "             scoring=&#x27;accuracy&#x27;)</pre><b>In a Jupyter environment, please rerun this cell to show the HTML representation or trust the notebook. <br />On GitHub, the HTML representation is unable to render, please try loading this page with nbviewer.org.</b></div><div class=\"sk-container\" hidden><div class=\"sk-item sk-dashed-wrapped\"><div class=\"sk-label-container\"><div class=\"sk-label sk-toggleable\"><input class=\"sk-toggleable__control sk-hidden--visually\" id=\"sk-estimator-id-4\" type=\"checkbox\" ><label for=\"sk-estimator-id-4\" class=\"sk-toggleable__label sk-toggleable__label-arrow\">GridSearchCV</label><div class=\"sk-toggleable__content\"><pre>GridSearchCV(estimator=DecisionTreeClassifier(),\n",
              "             param_grid={&#x27;max_depth&#x27;: [5, 15, None],\n",
              "                         &#x27;min_samples_leaf&#x27;: [1, 2, 5]},\n",
              "             scoring=&#x27;accuracy&#x27;)</pre></div></div></div><div class=\"sk-parallel\"><div class=\"sk-parallel-item\"><div class=\"sk-item\"><div class=\"sk-label-container\"><div class=\"sk-label sk-toggleable\"><input class=\"sk-toggleable__control sk-hidden--visually\" id=\"sk-estimator-id-5\" type=\"checkbox\" ><label for=\"sk-estimator-id-5\" class=\"sk-toggleable__label sk-toggleable__label-arrow\">estimator: DecisionTreeClassifier</label><div class=\"sk-toggleable__content\"><pre>DecisionTreeClassifier()</pre></div></div></div><div class=\"sk-serial\"><div class=\"sk-item\"><div class=\"sk-estimator sk-toggleable\"><input class=\"sk-toggleable__control sk-hidden--visually\" id=\"sk-estimator-id-6\" type=\"checkbox\" ><label for=\"sk-estimator-id-6\" class=\"sk-toggleable__label sk-toggleable__label-arrow\">DecisionTreeClassifier</label><div class=\"sk-toggleable__content\"><pre>DecisionTreeClassifier()</pre></div></div></div></div></div></div></div></div></div></div>"
            ]
          },
          "metadata": {},
          "execution_count": 3
        }
      ]
    },
    {
      "cell_type": "markdown",
      "source": [
        "Посмотреть лучшие параметры:"
      ],
      "metadata": {
        "id": "9-qJ3WO6MSWC"
      }
    },
    {
      "cell_type": "code",
      "source": [
        "clf.best_params_"
      ],
      "metadata": {
        "colab": {
          "base_uri": "https://localhost:8080/"
        },
        "id": "aT1j-p-pKzN5",
        "outputId": "f87443d2-0c30-4d0e-c541-82ee6d066884"
      },
      "execution_count": null,
      "outputs": [
        {
          "output_type": "execute_result",
          "data": {
            "text/plain": [
              "{'max_depth': 5, 'min_samples_leaf': 1}"
            ]
          },
          "metadata": {},
          "execution_count": 7
        }
      ]
    },
    {
      "cell_type": "markdown",
      "source": [
        "Их среднее качество по нескольким разбиениям:"
      ],
      "metadata": {
        "id": "P8XXVQf_MTji"
      }
    },
    {
      "cell_type": "code",
      "source": [
        "clf.best_score_"
      ],
      "metadata": {
        "colab": {
          "base_uri": "https://localhost:8080/"
        },
        "id": "2nkTmPD5LLGz",
        "outputId": "903b4fc1-203b-42cd-84c7-14fe95532af1"
      },
      "execution_count": null,
      "outputs": [
        {
          "output_type": "execute_result",
          "data": {
            "text/plain": [
              "0.9666666666666668"
            ]
          },
          "metadata": {},
          "execution_count": 8
        }
      ]
    },
    {
      "cell_type": "markdown",
      "source": [
        "Метрика качества от вашего X может не совпадать со средним по нескольким разным разбиениям, это ок:"
      ],
      "metadata": {
        "id": "UF2PiU_UMWk-"
      }
    },
    {
      "cell_type": "code",
      "source": [
        "from sklearn.metrics import accuracy_score\n",
        "\n",
        "# clf.predict вызывает predict от лучшей модели\n",
        "y_pred = clf.predict(iris.data)\n",
        "accuracy_score(y_pred, iris.target)"
      ],
      "metadata": {
        "colab": {
          "base_uri": "https://localhost:8080/"
        },
        "id": "i7RnrOw8MAch",
        "outputId": "d71e87cd-dff5-4e8f-f07b-d329fc9967b8"
      },
      "execution_count": null,
      "outputs": [
        {
          "output_type": "execute_result",
          "data": {
            "text/plain": [
              "1.0"
            ]
          },
          "metadata": {},
          "execution_count": 9
        }
      ]
    },
    {
      "cell_type": "markdown",
      "source": [
        "Попробуйте переписать ваш поиск по сетке на `GridSearchCV`. Получились ли у вас такие же результаты? Если нет — это нормально, но подумайте, почему они могут не совпадать."
      ],
      "metadata": {
        "id": "6TNk5Uc2Mlbz"
      }
    },
    {
      "cell_type": "code",
      "source": [
        "# YOUR CODE HERE"
      ],
      "metadata": {
        "id": "88q8ig1ENBT1"
      },
      "execution_count": null,
      "outputs": []
    },
    {
      "cell_type": "markdown",
      "source": [
        "## Задание 9* (1 балл)\n",
        "\n",
        "Возьмите любую семантическую модель, про которую мы говорили раньше. Представьте вектора текстов как усреднение векторов слов. Не забудьте исключить стоп-слова из расчета (подумайте, почему). Обучите на них классификатор. Сработало ли это лучше?"
      ],
      "metadata": {
        "id": "DwY-4f0jgY10"
      }
    },
    {
      "cell_type": "markdown",
      "source": [
        "Стоп-слова нужно исключать, потому что *... (ваш ответ здесь)*"
      ],
      "metadata": {
        "id": "pCL9fySzNOpu"
      }
    },
    {
      "cell_type": "code",
      "source": [],
      "metadata": {
        "id": "I94CS7LjJIRr"
      },
      "execution_count": null,
      "outputs": []
    }
  ]
}